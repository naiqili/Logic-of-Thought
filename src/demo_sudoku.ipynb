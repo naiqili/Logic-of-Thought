{
 "cells": [
  {
   "cell_type": "code",
   "execution_count": null,
   "metadata": {},
   "outputs": [],
   "source": [
    "import os\n",
    "os.environ[\"OPENAI_API_KEY\"] = 'sk-xxx'\n",
    "os.environ[\"OPENAI_API_BASE\"] ='https://api.deepseek.com'"
   ]
  },
  {
   "cell_type": "code",
   "execution_count": 2,
   "metadata": {},
   "outputs": [
    {
     "name": "stdout",
     "output_type": "stream",
     "text": [
      "OPENAI_API_BASE is set to https://api.deepseek.com\n"
     ]
    }
   ],
   "source": [
    "from functools import partial\n",
    "from argparse import Namespace\n",
    "from logot.models import gpt\n",
    "from logot.methods.solver import solve, solve_standard_prompt\n",
    "\n",
    "from logot.tasks.sudoku import SudokuTask\n",
    "CACHE_FILE = './tmp/sudoku_demo_cache.h5'\n",
    "VERBOSE = 3\n",
    "# METHOD = 'logot'\n",
    "METHOD = 'standard_prompt'\n",
    "\n",
    "task = SudokuTask(sys_desc_file='system_desc_fewshot_out.lp')\n",
    "_args = {\n",
    "    'backend': \"deepseek-chat\", \n",
    "    'temperature': 0.7, \n",
    "    'cache_file': CACHE_FILE,\n",
    "}\n",
    "args = Namespace(**_args)"
   ]
  },
  {
   "cell_type": "code",
   "execution_count": null,
   "metadata": {},
   "outputs": [
    {
     "name": "stdout",
     "output_type": "stream",
     "text": [
      "Retrive result from cache\n",
      "========DEBUGGING IN SOLVE========\n",
      "x\n",
      "050600007\n",
      "001000300\n",
      "000005400\n",
      "000040000\n",
      "680300971\n",
      "000000200\n",
      "200870064\n",
      "019000002\n",
      "070000000\n",
      "prompt\n",
      "You are a Sudoku-solving assistant.\n",
      "Given a 9x9 Sudoku puzzle, where each row is a string of 9 digits and '0' represents an empty cell, solve the puzzle and print the completed Sudoku grid.\n",
      "Input: \n",
      "050600007\n",
      "001000300\n",
      "000005400\n",
      "000040000\n",
      "680300971\n",
      "000000200\n",
      "200870064\n",
      "019000002\n",
      "070000000\n",
      "\n",
      "Keep the answer short. Output like:\n",
      "%\n",
      "GRID OF PUZZLE ANSWER\n",
      "\n",
      "gpt_res\n",
      "%\n",
      "453618297\n",
      "791284356\n",
      "826795418\n",
      "937142685\n",
      "682359971\n",
      "145967823\n",
      "238571964\n",
      "519436782\n",
      "674823519\n",
      "==================================\n"
     ]
    }
   ],
   "source": [
    "IDX = 1\n",
    "if METHOD == 'logot':\n",
    "    res = solve(args, task, IDX, VERBOSE)\n",
    "elif METHOD == 'standard_prompt':\n",
    "    res = solve_standard_prompt(args, task, IDX, VERBOSE)\n",
    "else:\n",
    "    raise NotImplementedError(f'{METHOD} not implemented.')"
   ]
  },
  {
   "cell_type": "code",
   "execution_count": 4,
   "metadata": {},
   "outputs": [
    {
     "name": "stdout",
     "output_type": "stream",
     "text": [
      "Test input:\n",
      "050600007\n",
      "001000300\n",
      "000005400\n",
      "000040000\n",
      "680300971\n",
      "000000200\n",
      "200870064\n",
      "019000002\n",
      "070000000\n",
      "\n",
      "Test output:\n",
      "453618297\n",
      "791284356\n",
      "826795418\n",
      "937142685\n",
      "682359971\n",
      "145967823\n",
      "238571964\n",
      "519436782\n",
      "674823519\n",
      "\n",
      "Valid: False\n"
     ]
    }
   ],
   "source": [
    "print('Test input:')\n",
    "print(task.get_input(IDX))\n",
    "print()\n",
    "print('Test output:')\n",
    "print(res)\n",
    "print()\n",
    "print(f'Valid: {task.test_output(IDX, res)}')"
   ]
  },
  {
   "cell_type": "code",
   "execution_count": null,
   "metadata": {},
   "outputs": [],
   "source": []
  }
 ],
 "metadata": {
  "kernelspec": {
   "display_name": "base",
   "language": "python",
   "name": "python3"
  },
  "language_info": {
   "codemirror_mode": {
    "name": "ipython",
    "version": 3
   },
   "file_extension": ".py",
   "mimetype": "text/x-python",
   "name": "python",
   "nbconvert_exporter": "python",
   "pygments_lexer": "ipython3",
   "version": "3.11.5"
  }
 },
 "nbformat": 4,
 "nbformat_minor": 2
}
