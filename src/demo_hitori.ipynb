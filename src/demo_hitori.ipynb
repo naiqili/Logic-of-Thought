{
 "cells": [
  {
   "cell_type": "code",
   "execution_count": null,
   "metadata": {},
   "outputs": [],
   "source": [
    "import os\n",
    "os.environ[\"OPENAI_API_KEY\"] = 'sk-xxx'\n",
    "os.environ[\"OPENAI_API_BASE\"] ='https://api.deepseek.com'"
   ]
  },
  {
   "cell_type": "code",
   "execution_count": 2,
   "metadata": {},
   "outputs": [
    {
     "name": "stdout",
     "output_type": "stream",
     "text": [
      "OPENAI_API_BASE is set to https://api.deepseek.com\n"
     ]
    }
   ],
   "source": [
    "from functools import partial\n",
    "from argparse import Namespace\n",
    "from logot.models import gpt\n",
    "from logot.methods.solver import solve, solve_standard_prompt\n",
    "\n",
    "from logot.tasks.hitori import HitoriTask\n",
    "CACHE_FILE = './tmp/hitori_demo_cache.h5'\n",
    "VERBOSE = 3\n",
    "# METHOD = 'logot'\n",
    "METHOD = 'standard_prompt'\n",
    "\n",
    "task = HitoriTask(sys_desc_file='system_desc_fewshot_out.lp')\n",
    "_args = {\n",
    "    'backend': \"deepseek-chat\", \n",
    "    'temperature': 0.7, \n",
    "    'cache_file': CACHE_FILE,\n",
    "}\n",
    "args = Namespace(**_args)"
   ]
  },
  {
   "cell_type": "code",
   "execution_count": 3,
   "metadata": {},
   "outputs": [
    {
     "name": "stdout",
     "output_type": "stream",
     "text": [
      "Retrive result from cache\n",
      "========DEBUGGING IN SOLVE========\n",
      "x\n",
      "5\n",
      "22124\n",
      "12245\n",
      "51423\n",
      "34211\n",
      "41351\n",
      "prompt\n",
      "You are given a Hitori puzzle represented as a square grid of digits. Your task is to solve the puzzle according to the following rules:\n",
      "1. No row or column can have duplicate numbers among the unmarked (white) cells.\n",
      "2. Black cells (`b`) cannot be adjacent horizontally or vertically (no two `b`s side by side).\n",
      "3. White cells (`w`) must form a single connected group (i.e., you can reach any white cell from any other white cell by moving horizontally or vertically through other white cells).\n",
      "\n",
      "Input:\n",
      "A grid of digits representing the Hitori puzzle. For example:\n",
      "44254\n",
      "51442\n",
      "14434\n",
      "23415\n",
      "42122\n",
      "\n",
      "Output:\n",
      "A grid of the same size, where each cell is either:\n",
      "'b' for a blacked-out cell (duplicate eliminated),\n",
      "'w' for a white cell (kept in the puzzle).\n",
      "Start the final answer with %.\n",
      "\n",
      "For example:\n",
      "%\n",
      "bwwwb\n",
      "wwbww\n",
      "wbwwb\n",
      "wwbww\n",
      "wbwwb\n",
      "\n",
      "Please solve the puzzle and return only the output grid.\n",
      "Input: \n",
      "5\n",
      "22124\n",
      "12245\n",
      "51423\n",
      "34211\n",
      "41351\n",
      "\n",
      "Keep the answer short. Only show the result.\n",
      "\n",
      "gpt_res\n",
      "%\n",
      "wbwwb\n",
      "wwbww\n",
      "bwwbw\n",
      "wbwwb\n",
      "wbwbw\n",
      "==================================\n"
     ]
    }
   ],
   "source": [
    "IDX = 1\n",
    "if METHOD == 'logot':\n",
    "    res = solve(args, task, IDX, VERBOSE)\n",
    "elif METHOD == 'standard_prompt':\n",
    "    res = solve_standard_prompt(args, task, IDX, VERBOSE)\n",
    "else:\n",
    "    raise NotImplementedError(f'{METHOD} not implemented.')"
   ]
  },
  {
   "cell_type": "code",
   "execution_count": 4,
   "metadata": {},
   "outputs": [
    {
     "name": "stdout",
     "output_type": "stream",
     "text": [
      "Test input:\n",
      "5\n",
      "22124\n",
      "12245\n",
      "51423\n",
      "34211\n",
      "41351\n",
      "\n",
      "Test output:\n",
      "wbwwb\n",
      "wwbww\n",
      "bwwbw\n",
      "wbwwb\n",
      "wbwbw\n",
      "\n",
      "Valid: False\n"
     ]
    }
   ],
   "source": [
    "print('Test input:')\n",
    "print(task.get_input(IDX))\n",
    "print()\n",
    "print('Test output:')\n",
    "print(res)\n",
    "print()\n",
    "print(f'Valid: {task.test_output(IDX, res)}')"
   ]
  },
  {
   "cell_type": "code",
   "execution_count": null,
   "metadata": {},
   "outputs": [],
   "source": []
  }
 ],
 "metadata": {
  "kernelspec": {
   "display_name": "base",
   "language": "python",
   "name": "python3"
  },
  "language_info": {
   "codemirror_mode": {
    "name": "ipython",
    "version": 3
   },
   "file_extension": ".py",
   "mimetype": "text/x-python",
   "name": "python",
   "nbconvert_exporter": "python",
   "pygments_lexer": "ipython3",
   "version": "3.11.5"
  }
 },
 "nbformat": 4,
 "nbformat_minor": 2
}
