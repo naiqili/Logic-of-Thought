{
 "cells": [
  {
   "cell_type": "code",
   "execution_count": null,
   "metadata": {},
   "outputs": [],
   "source": [
    "import os\n",
    "os.environ[\"OPENAI_API_KEY\"] = 'sk-xxx'\n",
    "os.environ[\"OPENAI_API_BASE\"] ='https://api.deepseek.com'"
   ]
  },
  {
   "cell_type": "code",
   "execution_count": 2,
   "metadata": {},
   "outputs": [
    {
     "name": "stdout",
     "output_type": "stream",
     "text": [
      "OPENAI_API_BASE is set to https://api.deepseek.com\n"
     ]
    }
   ],
   "source": [
    "from functools import partial\n",
    "from argparse import Namespace\n",
    "from logot.models import gpt\n",
    "from logot.methods.solver import solve, solve_standard_prompt\n",
    "\n",
    "from logot.tasks.fillomino import FillominoTask\n",
    "CACHE_FILE = './tmp/fillomino_demo_cache.h5'\n",
    "VERBOSE = 3\n",
    "# METHOD = 'logot'\n",
    "METHOD = 'standard_prompt'\n",
    "\n",
    "task = FillominoTask()\n",
    "_args = {\n",
    "    'backend': \"deepseek-chat\", \n",
    "    'temperature': 0.7, \n",
    "    'cache_file': CACHE_FILE,\n",
    "}\n",
    "args = Namespace(**_args)"
   ]
  },
  {
   "cell_type": "code",
   "execution_count": 3,
   "metadata": {},
   "outputs": [
    {
     "name": "stdout",
     "output_type": "stream",
     "text": [
      "==========GPT==========\n",
      "message:\n",
      " [{'role': 'user', 'content': 'You are solving a Fillomino puzzle.\\n\\nRules:\\n1. The puzzle is played on a rectangular grid.\\n2. Some cells may initially contain numbers; others contain `0` (representing an empty cell).\\n3. The objective is to divide the grid into contiguous regions (called polyominoes).\\n4. Each polyomino must:\\n   * Contain exactly one number (either pre-filled or filled during solving),\\n   * Have an area (number of cells) equal to that number,\\n   * Consist of orthogonally (up/down/left/right) connected cells,\\n   * Not share an edge with another polyomino of the same size.\\n\\nInput:\\nA list of strings representing rows of the grid. Each character is a digit (0–9). For example:\\n20000\\n03103\\n20030\\n00002\\n00210\\n\\nOutput:\\nA list of strings representing the solved grid, where each character is a digit (1–9), and all regions satisfy the Fillomino rules. \\nStart the final answer with %.\\n\\nFor example:\\n%\\n22444\\n33143\\n23433\\n24442\\n12212\\n\\nKeep the answer short. Only show the result.\\n\\nInput:\\n5\\n32002\\n00030\\n30201\\n01000\\n20031\\n'}]\n",
      "reply:\n",
      " {\n",
      "  \"choices\": [\n",
      "    {\n",
      "      \"finish_reason\": \"stop\",\n",
      "      \"index\": 0,\n",
      "      \"logprobs\": null,\n",
      "      \"message\": {\n",
      "        \"content\": \"%\\n55522\\n35533\\n35521\\n31122\\n22331\",\n",
      "        \"role\": \"assistant\"\n",
      "      }\n",
      "    }\n",
      "  ],\n",
      "  \"created\": 1746342000,\n",
      "  \"id\": \"09c7355f-972f-4edb-8417-dd775126bb67\",\n",
      "  \"model\": \"deepseek-chat\",\n",
      "  \"object\": \"chat.completion\",\n",
      "  \"system_fingerprint\": \"fp_8802369eaa_prod0425fp8\",\n",
      "  \"usage\": {\n",
      "    \"completion_tokens\": 15,\n",
      "    \"prompt_cache_hit_tokens\": 0,\n",
      "    \"prompt_cache_miss_tokens\": 266,\n",
      "    \"prompt_tokens\": 266,\n",
      "    \"prompt_tokens_details\": {\n",
      "      \"cached_tokens\": 0\n",
      "    },\n",
      "    \"total_tokens\": 281\n",
      "  }\n",
      "}\n",
      "Save result to cache\n",
      "========DEBUGGING IN SOLVE========\n",
      "x\n",
      "5\n",
      "32002\n",
      "00030\n",
      "30201\n",
      "01000\n",
      "20031\n",
      "prompt\n",
      "You are solving a Fillomino puzzle.\n",
      "\n",
      "Rules:\n",
      "1. The puzzle is played on a rectangular grid.\n",
      "2. Some cells may initially contain numbers; others contain `0` (representing an empty cell).\n",
      "3. The objective is to divide the grid into contiguous regions (called polyominoes).\n",
      "4. Each polyomino must:\n",
      "   * Contain exactly one number (either pre-filled or filled during solving),\n",
      "   * Have an area (number of cells) equal to that number,\n",
      "   * Consist of orthogonally (up/down/left/right) connected cells,\n",
      "   * Not share an edge with another polyomino of the same size.\n",
      "\n",
      "Input:\n",
      "A list of strings representing rows of the grid. Each character is a digit (0–9). For example:\n",
      "20000\n",
      "03103\n",
      "20030\n",
      "00002\n",
      "00210\n",
      "\n",
      "Output:\n",
      "A list of strings representing the solved grid, where each character is a digit (1–9), and all regions satisfy the Fillomino rules. \n",
      "Start the final answer with %.\n",
      "\n",
      "For example:\n",
      "%\n",
      "22444\n",
      "33143\n",
      "23433\n",
      "24442\n",
      "12212\n",
      "\n",
      "Keep the answer short. Only show the result.\n",
      "\n",
      "Input:\n",
      "5\n",
      "32002\n",
      "00030\n",
      "30201\n",
      "01000\n",
      "20031\n",
      "\n",
      "gpt_res\n",
      "%\n",
      "55522\n",
      "35533\n",
      "35521\n",
      "31122\n",
      "22331\n",
      "==================================\n"
     ]
    },
    {
     "name": "stderr",
     "output_type": "stream",
     "text": [
      "/data/linaiqi/anaconda3/envs/tot/lib/python3.9/site-packages/tables/path.py:137: NaturalNameWarning: object name is not a valid Python identifier: 'deepseek-chat'; it does not match the pattern ``^[a-zA-Z_][a-zA-Z0-9_]*$``; you will not be able to use natural naming to access this object; using ``getattr()`` will still work, though\n",
      "  check_attribute_name(name)\n"
     ]
    }
   ],
   "source": [
    "IDX = 1\n",
    "if METHOD == 'logot':\n",
    "    res = solve(args, task, IDX, VERBOSE)\n",
    "elif METHOD == 'standard_prompt':\n",
    "    res = solve_standard_prompt(args, task, IDX, VERBOSE)\n",
    "else:\n",
    "    raise NotImplementedError(f'{METHOD} not implemented.')"
   ]
  },
  {
   "cell_type": "code",
   "execution_count": 4,
   "metadata": {},
   "outputs": [
    {
     "name": "stdout",
     "output_type": "stream",
     "text": [
      "Test input:\n",
      "5\n",
      "32002\n",
      "00030\n",
      "30201\n",
      "01000\n",
      "20031\n",
      "\n",
      "Test output:\n",
      "55522\n",
      "35533\n",
      "35521\n",
      "31122\n",
      "22331\n",
      "\n",
      "Valid: False\n"
     ]
    }
   ],
   "source": [
    "print('Test input:')\n",
    "print(task.get_input(IDX))\n",
    "print()\n",
    "print('Test output:')\n",
    "print(res)\n",
    "print()\n",
    "print(f'Valid: {task.test_output(IDX, res)}')"
   ]
  },
  {
   "cell_type": "code",
   "execution_count": null,
   "metadata": {},
   "outputs": [],
   "source": []
  }
 ],
 "metadata": {
  "kernelspec": {
   "display_name": "base",
   "language": "python",
   "name": "python3"
  },
  "language_info": {
   "codemirror_mode": {
    "name": "ipython",
    "version": 3
   },
   "file_extension": ".py",
   "mimetype": "text/x-python",
   "name": "python",
   "nbconvert_exporter": "python",
   "pygments_lexer": "ipython3",
   "version": "3.11.5"
  }
 },
 "nbformat": 4,
 "nbformat_minor": 2
}
